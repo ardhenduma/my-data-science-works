{
 "cells": [
  {
   "cell_type": "markdown",
   "metadata": {},
   "source": [
    "<H1>Building a Regression Model in Keras<H1>"
   ]
  },
  {
   "cell_type": "markdown",
   "metadata": {},
   "source": [
    "# Table of Contents\n",
    "\n",
    "\n",
    "<font size = 3>\n",
    "    \n",
    "1. Download and Clean Dataset\n",
    "2. Import Keras  \n",
    "3. Build a Neural Network  \n",
    "4. Train and Test the Network  \n",
    "5. Evaluating the model on the test data and computing the mean squared error between the predicted concrete strength and the actual concrete strength. \n",
    "6. Create a list of 50 mean squared errors \n",
    "7. Report the mean and the standard deviation of the mean squared errors. \n",
    "\n",
    "</font>\n",
    "</div>"
   ]
  },
  {
   "cell_type": "markdown",
   "metadata": {},
   "source": [
    "<h2>Download and clean dataset<h2>"
   ]
  },
  {
   "cell_type": "code",
   "execution_count": 3,
   "metadata": {},
   "outputs": [],
   "source": [
    "import pandas as pd\n",
    "import numpy as np"
   ]
  },
  {
   "cell_type": "markdown",
   "metadata": {},
   "source": [
    "<strong>The dataset is about the compressive strength of different samples of concrete based on the volumes of the different ingredients that were used to make them. Ingredients include:</strong>\n",
    "\n",
    "<strong>1. Cement</strong>\n",
    "\n",
    "<strong>2. Blast Furnace Slag</strong>\n",
    "\n",
    "<strong>3. Fly Ash</strong>\n",
    "\n",
    "<strong>4. Water</strong>\n",
    "\n",
    "<strong>5. Superplasticizer</strong>\n",
    "\n",
    "<strong>6. Coarse Aggregate</strong>\n",
    "\n",
    "<strong>7. Fine Aggregate</strong>"
   ]
  },
  {
   "cell_type": "markdown",
   "metadata": {},
   "source": [
    "**_Now we will download the data and put it in pandas dataframe_**"
   ]
  },
  {
   "cell_type": "code",
   "execution_count": 10,
   "metadata": {},
   "outputs": [
    {
     "data": {
      "text/html": [
       "<div>\n",
       "<style scoped>\n",
       "    .dataframe tbody tr th:only-of-type {\n",
       "        vertical-align: middle;\n",
       "    }\n",
       "\n",
       "    .dataframe tbody tr th {\n",
       "        vertical-align: top;\n",
       "    }\n",
       "\n",
       "    .dataframe thead th {\n",
       "        text-align: right;\n",
       "    }\n",
       "</style>\n",
       "<table border=\"1\" class=\"dataframe\">\n",
       "  <thead>\n",
       "    <tr style=\"text-align: right;\">\n",
       "      <th></th>\n",
       "      <th>Cement</th>\n",
       "      <th>Blast Furnace Slag</th>\n",
       "      <th>Fly Ash</th>\n",
       "      <th>Water</th>\n",
       "      <th>Superplasticizer</th>\n",
       "      <th>Coarse Aggregate</th>\n",
       "      <th>Fine Aggregate</th>\n",
       "      <th>Age</th>\n",
       "      <th>Strength</th>\n",
       "    </tr>\n",
       "  </thead>\n",
       "  <tbody>\n",
       "    <tr>\n",
       "      <th>0</th>\n",
       "      <td>540.0</td>\n",
       "      <td>0.0</td>\n",
       "      <td>0.0</td>\n",
       "      <td>162.0</td>\n",
       "      <td>2.5</td>\n",
       "      <td>1040.0</td>\n",
       "      <td>676.0</td>\n",
       "      <td>28</td>\n",
       "      <td>79.99</td>\n",
       "    </tr>\n",
       "    <tr>\n",
       "      <th>1</th>\n",
       "      <td>540.0</td>\n",
       "      <td>0.0</td>\n",
       "      <td>0.0</td>\n",
       "      <td>162.0</td>\n",
       "      <td>2.5</td>\n",
       "      <td>1055.0</td>\n",
       "      <td>676.0</td>\n",
       "      <td>28</td>\n",
       "      <td>61.89</td>\n",
       "    </tr>\n",
       "    <tr>\n",
       "      <th>2</th>\n",
       "      <td>332.5</td>\n",
       "      <td>142.5</td>\n",
       "      <td>0.0</td>\n",
       "      <td>228.0</td>\n",
       "      <td>0.0</td>\n",
       "      <td>932.0</td>\n",
       "      <td>594.0</td>\n",
       "      <td>270</td>\n",
       "      <td>40.27</td>\n",
       "    </tr>\n",
       "    <tr>\n",
       "      <th>3</th>\n",
       "      <td>332.5</td>\n",
       "      <td>142.5</td>\n",
       "      <td>0.0</td>\n",
       "      <td>228.0</td>\n",
       "      <td>0.0</td>\n",
       "      <td>932.0</td>\n",
       "      <td>594.0</td>\n",
       "      <td>365</td>\n",
       "      <td>41.05</td>\n",
       "    </tr>\n",
       "    <tr>\n",
       "      <th>4</th>\n",
       "      <td>198.6</td>\n",
       "      <td>132.4</td>\n",
       "      <td>0.0</td>\n",
       "      <td>192.0</td>\n",
       "      <td>0.0</td>\n",
       "      <td>978.4</td>\n",
       "      <td>825.5</td>\n",
       "      <td>360</td>\n",
       "      <td>44.30</td>\n",
       "    </tr>\n",
       "  </tbody>\n",
       "</table>\n",
       "</div>"
      ],
      "text/plain": [
       "   Cement  Blast Furnace Slag  Fly Ash  Water  Superplasticizer  \\\n",
       "0   540.0                 0.0      0.0  162.0               2.5   \n",
       "1   540.0                 0.0      0.0  162.0               2.5   \n",
       "2   332.5               142.5      0.0  228.0               0.0   \n",
       "3   332.5               142.5      0.0  228.0               0.0   \n",
       "4   198.6               132.4      0.0  192.0               0.0   \n",
       "\n",
       "   Coarse Aggregate  Fine Aggregate  Age  Strength  \n",
       "0            1040.0           676.0   28     79.99  \n",
       "1            1055.0           676.0   28     61.89  \n",
       "2             932.0           594.0  270     40.27  \n",
       "3             932.0           594.0  365     41.05  \n",
       "4             978.4           825.5  360     44.30  "
      ]
     },
     "execution_count": 10,
     "metadata": {},
     "output_type": "execute_result"
    }
   ],
   "source": [
    "concrete_data = pd.read_csv('https://s3-api.us-geo.objectstorage.softlayer.net/cf-courses-data/CognitiveClass/DL0101EN/labs/data/concrete_data.csv')\n",
    "concrete_data.head()"
   ]
  },
  {
   "cell_type": "markdown",
   "metadata": {},
   "source": [
    "#### Let's check how many data points we have."
   ]
  },
  {
   "cell_type": "code",
   "execution_count": 11,
   "metadata": {},
   "outputs": [
    {
     "data": {
      "text/plain": [
       "(1030, 9)"
      ]
     },
     "execution_count": 11,
     "metadata": {},
     "output_type": "execute_result"
    }
   ],
   "source": [
    "concrete_data.shape"
   ]
  },
  {
   "cell_type": "markdown",
   "metadata": {},
   "source": [
    "So, there are approximately 1000 samples to train our model on. Because of the few samples, we have to be careful not to overfit the training data."
   ]
  },
  {
   "cell_type": "code",
   "execution_count": 12,
   "metadata": {},
   "outputs": [
    {
     "data": {
      "text/html": [
       "<div>\n",
       "<style scoped>\n",
       "    .dataframe tbody tr th:only-of-type {\n",
       "        vertical-align: middle;\n",
       "    }\n",
       "\n",
       "    .dataframe tbody tr th {\n",
       "        vertical-align: top;\n",
       "    }\n",
       "\n",
       "    .dataframe thead th {\n",
       "        text-align: right;\n",
       "    }\n",
       "</style>\n",
       "<table border=\"1\" class=\"dataframe\">\n",
       "  <thead>\n",
       "    <tr style=\"text-align: right;\">\n",
       "      <th></th>\n",
       "      <th>Cement</th>\n",
       "      <th>Blast Furnace Slag</th>\n",
       "      <th>Fly Ash</th>\n",
       "      <th>Water</th>\n",
       "      <th>Superplasticizer</th>\n",
       "      <th>Coarse Aggregate</th>\n",
       "      <th>Fine Aggregate</th>\n",
       "      <th>Age</th>\n",
       "      <th>Strength</th>\n",
       "    </tr>\n",
       "  </thead>\n",
       "  <tbody>\n",
       "    <tr>\n",
       "      <th>count</th>\n",
       "      <td>1030.000000</td>\n",
       "      <td>1030.000000</td>\n",
       "      <td>1030.000000</td>\n",
       "      <td>1030.000000</td>\n",
       "      <td>1030.000000</td>\n",
       "      <td>1030.000000</td>\n",
       "      <td>1030.000000</td>\n",
       "      <td>1030.000000</td>\n",
       "      <td>1030.000000</td>\n",
       "    </tr>\n",
       "    <tr>\n",
       "      <th>mean</th>\n",
       "      <td>281.167864</td>\n",
       "      <td>73.895825</td>\n",
       "      <td>54.188350</td>\n",
       "      <td>181.567282</td>\n",
       "      <td>6.204660</td>\n",
       "      <td>972.918932</td>\n",
       "      <td>773.580485</td>\n",
       "      <td>45.662136</td>\n",
       "      <td>35.817961</td>\n",
       "    </tr>\n",
       "    <tr>\n",
       "      <th>std</th>\n",
       "      <td>104.506364</td>\n",
       "      <td>86.279342</td>\n",
       "      <td>63.997004</td>\n",
       "      <td>21.354219</td>\n",
       "      <td>5.973841</td>\n",
       "      <td>77.753954</td>\n",
       "      <td>80.175980</td>\n",
       "      <td>63.169912</td>\n",
       "      <td>16.705742</td>\n",
       "    </tr>\n",
       "    <tr>\n",
       "      <th>min</th>\n",
       "      <td>102.000000</td>\n",
       "      <td>0.000000</td>\n",
       "      <td>0.000000</td>\n",
       "      <td>121.800000</td>\n",
       "      <td>0.000000</td>\n",
       "      <td>801.000000</td>\n",
       "      <td>594.000000</td>\n",
       "      <td>1.000000</td>\n",
       "      <td>2.330000</td>\n",
       "    </tr>\n",
       "    <tr>\n",
       "      <th>25%</th>\n",
       "      <td>192.375000</td>\n",
       "      <td>0.000000</td>\n",
       "      <td>0.000000</td>\n",
       "      <td>164.900000</td>\n",
       "      <td>0.000000</td>\n",
       "      <td>932.000000</td>\n",
       "      <td>730.950000</td>\n",
       "      <td>7.000000</td>\n",
       "      <td>23.710000</td>\n",
       "    </tr>\n",
       "    <tr>\n",
       "      <th>50%</th>\n",
       "      <td>272.900000</td>\n",
       "      <td>22.000000</td>\n",
       "      <td>0.000000</td>\n",
       "      <td>185.000000</td>\n",
       "      <td>6.400000</td>\n",
       "      <td>968.000000</td>\n",
       "      <td>779.500000</td>\n",
       "      <td>28.000000</td>\n",
       "      <td>34.445000</td>\n",
       "    </tr>\n",
       "    <tr>\n",
       "      <th>75%</th>\n",
       "      <td>350.000000</td>\n",
       "      <td>142.950000</td>\n",
       "      <td>118.300000</td>\n",
       "      <td>192.000000</td>\n",
       "      <td>10.200000</td>\n",
       "      <td>1029.400000</td>\n",
       "      <td>824.000000</td>\n",
       "      <td>56.000000</td>\n",
       "      <td>46.135000</td>\n",
       "    </tr>\n",
       "    <tr>\n",
       "      <th>max</th>\n",
       "      <td>540.000000</td>\n",
       "      <td>359.400000</td>\n",
       "      <td>200.100000</td>\n",
       "      <td>247.000000</td>\n",
       "      <td>32.200000</td>\n",
       "      <td>1145.000000</td>\n",
       "      <td>992.600000</td>\n",
       "      <td>365.000000</td>\n",
       "      <td>82.600000</td>\n",
       "    </tr>\n",
       "  </tbody>\n",
       "</table>\n",
       "</div>"
      ],
      "text/plain": [
       "            Cement  Blast Furnace Slag      Fly Ash        Water  \\\n",
       "count  1030.000000         1030.000000  1030.000000  1030.000000   \n",
       "mean    281.167864           73.895825    54.188350   181.567282   \n",
       "std     104.506364           86.279342    63.997004    21.354219   \n",
       "min     102.000000            0.000000     0.000000   121.800000   \n",
       "25%     192.375000            0.000000     0.000000   164.900000   \n",
       "50%     272.900000           22.000000     0.000000   185.000000   \n",
       "75%     350.000000          142.950000   118.300000   192.000000   \n",
       "max     540.000000          359.400000   200.100000   247.000000   \n",
       "\n",
       "       Superplasticizer  Coarse Aggregate  Fine Aggregate          Age  \\\n",
       "count       1030.000000       1030.000000     1030.000000  1030.000000   \n",
       "mean           6.204660        972.918932      773.580485    45.662136   \n",
       "std            5.973841         77.753954       80.175980    63.169912   \n",
       "min            0.000000        801.000000      594.000000     1.000000   \n",
       "25%            0.000000        932.000000      730.950000     7.000000   \n",
       "50%            6.400000        968.000000      779.500000    28.000000   \n",
       "75%           10.200000       1029.400000      824.000000    56.000000   \n",
       "max           32.200000       1145.000000      992.600000   365.000000   \n",
       "\n",
       "          Strength  \n",
       "count  1030.000000  \n",
       "mean     35.817961  \n",
       "std      16.705742  \n",
       "min       2.330000  \n",
       "25%      23.710000  \n",
       "50%      34.445000  \n",
       "75%      46.135000  \n",
       "max      82.600000  "
      ]
     },
     "execution_count": 12,
     "metadata": {},
     "output_type": "execute_result"
    }
   ],
   "source": [
    "concrete_data.describe()"
   ]
  },
  {
   "cell_type": "markdown",
   "metadata": {},
   "source": [
    "Now to check the data set for the missing values"
   ]
  },
  {
   "cell_type": "code",
   "execution_count": 13,
   "metadata": {},
   "outputs": [
    {
     "data": {
      "text/plain": [
       "Cement                0\n",
       "Blast Furnace Slag    0\n",
       "Fly Ash               0\n",
       "Water                 0\n",
       "Superplasticizer      0\n",
       "Coarse Aggregate      0\n",
       "Fine Aggregate        0\n",
       "Age                   0\n",
       "Strength              0\n",
       "dtype: int64"
      ]
     },
     "execution_count": 13,
     "metadata": {},
     "output_type": "execute_result"
    }
   ],
   "source": [
    "concrete_data.isnull().sum()"
   ]
  },
  {
   "cell_type": "markdown",
   "metadata": {},
   "source": [
    "So, our data have no missing value"
   ]
  },
  {
   "cell_type": "markdown",
   "metadata": {},
   "source": [
    "**_Now to separate the prectictor columns and the target column_** "
   ]
  },
  {
   "cell_type": "code",
   "execution_count": 72,
   "metadata": {},
   "outputs": [],
   "source": [
    "concrete_columns= concrete_data.columns\n",
    "predictor= concrete_data[concrete_columns[concrete_columns!= \"Strength\"]]\n",
    "target = concrete_data[\"Strength\"]"
   ]
  },
  {
   "cell_type": "markdown",
   "metadata": {},
   "source": [
    "now lets check both the predictors and the target dataframes"
   ]
  },
  {
   "cell_type": "code",
   "execution_count": 73,
   "metadata": {},
   "outputs": [
    {
     "data": {
      "text/html": [
       "<div>\n",
       "<style scoped>\n",
       "    .dataframe tbody tr th:only-of-type {\n",
       "        vertical-align: middle;\n",
       "    }\n",
       "\n",
       "    .dataframe tbody tr th {\n",
       "        vertical-align: top;\n",
       "    }\n",
       "\n",
       "    .dataframe thead th {\n",
       "        text-align: right;\n",
       "    }\n",
       "</style>\n",
       "<table border=\"1\" class=\"dataframe\">\n",
       "  <thead>\n",
       "    <tr style=\"text-align: right;\">\n",
       "      <th></th>\n",
       "      <th>Cement</th>\n",
       "      <th>Blast Furnace Slag</th>\n",
       "      <th>Fly Ash</th>\n",
       "      <th>Water</th>\n",
       "      <th>Superplasticizer</th>\n",
       "      <th>Coarse Aggregate</th>\n",
       "      <th>Fine Aggregate</th>\n",
       "      <th>Age</th>\n",
       "    </tr>\n",
       "  </thead>\n",
       "  <tbody>\n",
       "    <tr>\n",
       "      <th>0</th>\n",
       "      <td>540.0</td>\n",
       "      <td>0.0</td>\n",
       "      <td>0.0</td>\n",
       "      <td>162.0</td>\n",
       "      <td>2.5</td>\n",
       "      <td>1040.0</td>\n",
       "      <td>676.0</td>\n",
       "      <td>28</td>\n",
       "    </tr>\n",
       "    <tr>\n",
       "      <th>1</th>\n",
       "      <td>540.0</td>\n",
       "      <td>0.0</td>\n",
       "      <td>0.0</td>\n",
       "      <td>162.0</td>\n",
       "      <td>2.5</td>\n",
       "      <td>1055.0</td>\n",
       "      <td>676.0</td>\n",
       "      <td>28</td>\n",
       "    </tr>\n",
       "    <tr>\n",
       "      <th>2</th>\n",
       "      <td>332.5</td>\n",
       "      <td>142.5</td>\n",
       "      <td>0.0</td>\n",
       "      <td>228.0</td>\n",
       "      <td>0.0</td>\n",
       "      <td>932.0</td>\n",
       "      <td>594.0</td>\n",
       "      <td>270</td>\n",
       "    </tr>\n",
       "    <tr>\n",
       "      <th>3</th>\n",
       "      <td>332.5</td>\n",
       "      <td>142.5</td>\n",
       "      <td>0.0</td>\n",
       "      <td>228.0</td>\n",
       "      <td>0.0</td>\n",
       "      <td>932.0</td>\n",
       "      <td>594.0</td>\n",
       "      <td>365</td>\n",
       "    </tr>\n",
       "    <tr>\n",
       "      <th>4</th>\n",
       "      <td>198.6</td>\n",
       "      <td>132.4</td>\n",
       "      <td>0.0</td>\n",
       "      <td>192.0</td>\n",
       "      <td>0.0</td>\n",
       "      <td>978.4</td>\n",
       "      <td>825.5</td>\n",
       "      <td>360</td>\n",
       "    </tr>\n",
       "  </tbody>\n",
       "</table>\n",
       "</div>"
      ],
      "text/plain": [
       "   Cement  Blast Furnace Slag  Fly Ash  Water  Superplasticizer  \\\n",
       "0   540.0                 0.0      0.0  162.0               2.5   \n",
       "1   540.0                 0.0      0.0  162.0               2.5   \n",
       "2   332.5               142.5      0.0  228.0               0.0   \n",
       "3   332.5               142.5      0.0  228.0               0.0   \n",
       "4   198.6               132.4      0.0  192.0               0.0   \n",
       "\n",
       "   Coarse Aggregate  Fine Aggregate  Age  \n",
       "0            1040.0           676.0   28  \n",
       "1            1055.0           676.0   28  \n",
       "2             932.0           594.0  270  \n",
       "3             932.0           594.0  365  \n",
       "4             978.4           825.5  360  "
      ]
     },
     "execution_count": 73,
     "metadata": {},
     "output_type": "execute_result"
    }
   ],
   "source": [
    "predictor.head()"
   ]
  },
  {
   "cell_type": "code",
   "execution_count": 74,
   "metadata": {},
   "outputs": [
    {
     "data": {
      "text/plain": [
       "0    79.99\n",
       "1    61.89\n",
       "2    40.27\n",
       "3    41.05\n",
       "4    44.30\n",
       "Name: Strength, dtype: float64"
      ]
     },
     "execution_count": 74,
     "metadata": {},
     "output_type": "execute_result"
    }
   ],
   "source": [
    "target.head()"
   ]
  },
  {
   "cell_type": "markdown",
   "metadata": {},
   "source": [
    "**NORMALIZING THE DATA**"
   ]
  },
  {
   "cell_type": "code",
   "execution_count": 75,
   "metadata": {},
   "outputs": [
    {
     "data": {
      "text/html": [
       "<div>\n",
       "<style scoped>\n",
       "    .dataframe tbody tr th:only-of-type {\n",
       "        vertical-align: middle;\n",
       "    }\n",
       "\n",
       "    .dataframe tbody tr th {\n",
       "        vertical-align: top;\n",
       "    }\n",
       "\n",
       "    .dataframe thead th {\n",
       "        text-align: right;\n",
       "    }\n",
       "</style>\n",
       "<table border=\"1\" class=\"dataframe\">\n",
       "  <thead>\n",
       "    <tr style=\"text-align: right;\">\n",
       "      <th></th>\n",
       "      <th>Cement</th>\n",
       "      <th>Blast Furnace Slag</th>\n",
       "      <th>Fly Ash</th>\n",
       "      <th>Water</th>\n",
       "      <th>Superplasticizer</th>\n",
       "      <th>Coarse Aggregate</th>\n",
       "      <th>Fine Aggregate</th>\n",
       "      <th>Age</th>\n",
       "    </tr>\n",
       "  </thead>\n",
       "  <tbody>\n",
       "    <tr>\n",
       "      <th>0</th>\n",
       "      <td>2.476712</td>\n",
       "      <td>-0.856472</td>\n",
       "      <td>-0.846733</td>\n",
       "      <td>-0.916319</td>\n",
       "      <td>-0.620147</td>\n",
       "      <td>0.862735</td>\n",
       "      <td>-1.217079</td>\n",
       "      <td>-0.279597</td>\n",
       "    </tr>\n",
       "    <tr>\n",
       "      <th>1</th>\n",
       "      <td>2.476712</td>\n",
       "      <td>-0.856472</td>\n",
       "      <td>-0.846733</td>\n",
       "      <td>-0.916319</td>\n",
       "      <td>-0.620147</td>\n",
       "      <td>1.055651</td>\n",
       "      <td>-1.217079</td>\n",
       "      <td>-0.279597</td>\n",
       "    </tr>\n",
       "    <tr>\n",
       "      <th>2</th>\n",
       "      <td>0.491187</td>\n",
       "      <td>0.795140</td>\n",
       "      <td>-0.846733</td>\n",
       "      <td>2.174405</td>\n",
       "      <td>-1.038638</td>\n",
       "      <td>-0.526262</td>\n",
       "      <td>-2.239829</td>\n",
       "      <td>3.551340</td>\n",
       "    </tr>\n",
       "    <tr>\n",
       "      <th>3</th>\n",
       "      <td>0.491187</td>\n",
       "      <td>0.795140</td>\n",
       "      <td>-0.846733</td>\n",
       "      <td>2.174405</td>\n",
       "      <td>-1.038638</td>\n",
       "      <td>-0.526262</td>\n",
       "      <td>-2.239829</td>\n",
       "      <td>5.055221</td>\n",
       "    </tr>\n",
       "    <tr>\n",
       "      <th>4</th>\n",
       "      <td>-0.790075</td>\n",
       "      <td>0.678079</td>\n",
       "      <td>-0.846733</td>\n",
       "      <td>0.488555</td>\n",
       "      <td>-1.038638</td>\n",
       "      <td>0.070492</td>\n",
       "      <td>0.647569</td>\n",
       "      <td>4.976069</td>\n",
       "    </tr>\n",
       "  </tbody>\n",
       "</table>\n",
       "</div>"
      ],
      "text/plain": [
       "     Cement  Blast Furnace Slag   Fly Ash     Water  Superplasticizer  \\\n",
       "0  2.476712           -0.856472 -0.846733 -0.916319         -0.620147   \n",
       "1  2.476712           -0.856472 -0.846733 -0.916319         -0.620147   \n",
       "2  0.491187            0.795140 -0.846733  2.174405         -1.038638   \n",
       "3  0.491187            0.795140 -0.846733  2.174405         -1.038638   \n",
       "4 -0.790075            0.678079 -0.846733  0.488555         -1.038638   \n",
       "\n",
       "   Coarse Aggregate  Fine Aggregate       Age  \n",
       "0          0.862735       -1.217079 -0.279597  \n",
       "1          1.055651       -1.217079 -0.279597  \n",
       "2         -0.526262       -2.239829  3.551340  \n",
       "3         -0.526262       -2.239829  5.055221  \n",
       "4          0.070492        0.647569  4.976069  "
      ]
     },
     "execution_count": 75,
     "metadata": {},
     "output_type": "execute_result"
    }
   ],
   "source": [
    "predictors_norm = (predictor - predictor.mean()) / predictor.std()\n",
    "predictors_norm.head()"
   ]
  },
  {
   "cell_type": "markdown",
   "metadata": {},
   "source": [
    "_For the finding the no of predictor which is to be provided as an input to the regression model_"
   ]
  },
  {
   "cell_type": "code",
   "execution_count": 76,
   "metadata": {},
   "outputs": [
    {
     "data": {
      "text/plain": [
       "8"
      ]
     },
     "execution_count": 76,
     "metadata": {},
     "output_type": "execute_result"
    }
   ],
   "source": [
    "no_of_predictors= predictors_norm.shape[1]\n",
    "no_of_predictors"
   ]
  },
  {
   "cell_type": "markdown",
   "metadata": {},
   "source": [
    "<h2>Importing Keras<h2>"
   ]
  },
  {
   "cell_type": "code",
   "execution_count": 24,
   "metadata": {},
   "outputs": [
    {
     "name": "stderr",
     "output_type": "stream",
     "text": [
      "Using TensorFlow backend.\n",
      "/home/jupyterlab/conda/envs/python/lib/python3.6/site-packages/tensorflow/python/framework/dtypes.py:519: FutureWarning: Passing (type, 1) or '1type' as a synonym of type is deprecated; in a future version of numpy, it will be understood as (type, (1,)) / '(1,)type'.\n",
      "  _np_qint8 = np.dtype([(\"qint8\", np.int8, 1)])\n",
      "/home/jupyterlab/conda/envs/python/lib/python3.6/site-packages/tensorflow/python/framework/dtypes.py:520: FutureWarning: Passing (type, 1) or '1type' as a synonym of type is deprecated; in a future version of numpy, it will be understood as (type, (1,)) / '(1,)type'.\n",
      "  _np_quint8 = np.dtype([(\"quint8\", np.uint8, 1)])\n",
      "/home/jupyterlab/conda/envs/python/lib/python3.6/site-packages/tensorflow/python/framework/dtypes.py:521: FutureWarning: Passing (type, 1) or '1type' as a synonym of type is deprecated; in a future version of numpy, it will be understood as (type, (1,)) / '(1,)type'.\n",
      "  _np_qint16 = np.dtype([(\"qint16\", np.int16, 1)])\n",
      "/home/jupyterlab/conda/envs/python/lib/python3.6/site-packages/tensorflow/python/framework/dtypes.py:522: FutureWarning: Passing (type, 1) or '1type' as a synonym of type is deprecated; in a future version of numpy, it will be understood as (type, (1,)) / '(1,)type'.\n",
      "  _np_quint16 = np.dtype([(\"quint16\", np.uint16, 1)])\n",
      "/home/jupyterlab/conda/envs/python/lib/python3.6/site-packages/tensorflow/python/framework/dtypes.py:523: FutureWarning: Passing (type, 1) or '1type' as a synonym of type is deprecated; in a future version of numpy, it will be understood as (type, (1,)) / '(1,)type'.\n",
      "  _np_qint32 = np.dtype([(\"qint32\", np.int32, 1)])\n",
      "/home/jupyterlab/conda/envs/python/lib/python3.6/site-packages/tensorflow/python/framework/dtypes.py:528: FutureWarning: Passing (type, 1) or '1type' as a synonym of type is deprecated; in a future version of numpy, it will be understood as (type, (1,)) / '(1,)type'.\n",
      "  np_resource = np.dtype([(\"resource\", np.ubyte, 1)])\n"
     ]
    }
   ],
   "source": [
    "import keras"
   ]
  },
  {
   "cell_type": "markdown",
   "metadata": {},
   "source": [
    "Let's import the rest of the packages from the Keras library that we will need to build our regression model."
   ]
  },
  {
   "cell_type": "code",
   "execution_count": 26,
   "metadata": {},
   "outputs": [],
   "source": [
    "from keras.models import Sequential\n",
    "from keras.layers import Dense"
   ]
  },
  {
   "cell_type": "markdown",
   "metadata": {},
   "source": [
    "<H1>Building the Neural Network for the regression model<H1>"
   ]
  },
  {
   "cell_type": "code",
   "execution_count": 77,
   "metadata": {},
   "outputs": [],
   "source": [
    "def regression_model():\n",
    "    model= Sequential()\n",
    "    #designing with 1 hidden layer having 10 nodes and output layer having one node.\n",
    "    model.add(Dense(10, activation= 'relu', input_shape=(no_of_predictors,)))\n",
    "    model.add(Dense(1))\n",
    "    \n",
    "    #use the adam optimizer\n",
    "    model.compile(optimizer= 'adam', loss= 'mean_squared_error')\n",
    "    return model\n",
    "    "
   ]
  },
  {
   "cell_type": "markdown",
   "metadata": {},
   "source": [
    "**_1. At first importing the train_test_split and then split the data into training and test data_**"
   ]
  },
  {
   "cell_type": "code",
   "execution_count": 78,
   "metadata": {},
   "outputs": [],
   "source": [
    "from sklearn.model_selection import train_test_split"
   ]
  },
  {
   "cell_type": "code",
   "execution_count": 79,
   "metadata": {},
   "outputs": [],
   "source": [
    "X_train, X_test, y_train, y_test = train_test_split(predictors_norm, target, test_size=0.3, random_state=42)"
   ]
  },
  {
   "cell_type": "code",
   "execution_count": 80,
   "metadata": {},
   "outputs": [
    {
     "data": {
      "text/html": [
       "<div>\n",
       "<style scoped>\n",
       "    .dataframe tbody tr th:only-of-type {\n",
       "        vertical-align: middle;\n",
       "    }\n",
       "\n",
       "    .dataframe tbody tr th {\n",
       "        vertical-align: top;\n",
       "    }\n",
       "\n",
       "    .dataframe thead th {\n",
       "        text-align: right;\n",
       "    }\n",
       "</style>\n",
       "<table border=\"1\" class=\"dataframe\">\n",
       "  <thead>\n",
       "    <tr style=\"text-align: right;\">\n",
       "      <th></th>\n",
       "      <th>Cement</th>\n",
       "      <th>Blast Furnace Slag</th>\n",
       "      <th>Fly Ash</th>\n",
       "      <th>Water</th>\n",
       "      <th>Superplasticizer</th>\n",
       "      <th>Coarse Aggregate</th>\n",
       "      <th>Fine Aggregate</th>\n",
       "      <th>Age</th>\n",
       "    </tr>\n",
       "  </thead>\n",
       "  <tbody>\n",
       "    <tr>\n",
       "      <th>196</th>\n",
       "      <td>-0.827393</td>\n",
       "      <td>-0.856472</td>\n",
       "      <td>0.723653</td>\n",
       "      <td>-0.747734</td>\n",
       "      <td>0.216835</td>\n",
       "      <td>0.430603</td>\n",
       "      <td>1.650364</td>\n",
       "      <td>-0.279597</td>\n",
       "    </tr>\n",
       "    <tr>\n",
       "      <th>631</th>\n",
       "      <td>0.419421</td>\n",
       "      <td>-0.856472</td>\n",
       "      <td>-0.846733</td>\n",
       "      <td>0.113922</td>\n",
       "      <td>-1.038638</td>\n",
       "      <td>1.158540</td>\n",
       "      <td>0.117485</td>\n",
       "      <td>-0.612034</td>\n",
       "    </tr>\n",
       "    <tr>\n",
       "      <th>81</th>\n",
       "      <td>0.360094</td>\n",
       "      <td>1.606458</td>\n",
       "      <td>-0.846733</td>\n",
       "      <td>-1.211343</td>\n",
       "      <td>1.355131</td>\n",
       "      <td>-1.553862</td>\n",
       "      <td>1.332313</td>\n",
       "      <td>-0.675355</td>\n",
       "    </tr>\n",
       "    <tr>\n",
       "      <th>526</th>\n",
       "      <td>0.744760</td>\n",
       "      <td>-0.636257</td>\n",
       "      <td>1.356496</td>\n",
       "      <td>-1.290952</td>\n",
       "      <td>0.785983</td>\n",
       "      <td>-0.397651</td>\n",
       "      <td>0.341992</td>\n",
       "      <td>-0.675355</td>\n",
       "    </tr>\n",
       "    <tr>\n",
       "      <th>830</th>\n",
       "      <td>-1.140293</td>\n",
       "      <td>1.345678</td>\n",
       "      <td>1.465876</td>\n",
       "      <td>-0.120224</td>\n",
       "      <td>2.141895</td>\n",
       "      <td>-1.735203</td>\n",
       "      <td>-0.406362</td>\n",
       "      <td>-0.279597</td>\n",
       "    </tr>\n",
       "  </tbody>\n",
       "</table>\n",
       "</div>"
      ],
      "text/plain": [
       "       Cement  Blast Furnace Slag   Fly Ash     Water  Superplasticizer  \\\n",
       "196 -0.827393           -0.856472  0.723653 -0.747734          0.216835   \n",
       "631  0.419421           -0.856472 -0.846733  0.113922         -1.038638   \n",
       "81   0.360094            1.606458 -0.846733 -1.211343          1.355131   \n",
       "526  0.744760           -0.636257  1.356496 -1.290952          0.785983   \n",
       "830 -1.140293            1.345678  1.465876 -0.120224          2.141895   \n",
       "\n",
       "     Coarse Aggregate  Fine Aggregate       Age  \n",
       "196          0.430603        1.650364 -0.279597  \n",
       "631          1.158540        0.117485 -0.612034  \n",
       "81          -1.553862        1.332313 -0.675355  \n",
       "526         -0.397651        0.341992 -0.675355  \n",
       "830         -1.735203       -0.406362 -0.279597  "
      ]
     },
     "execution_count": 80,
     "metadata": {},
     "output_type": "execute_result"
    }
   ],
   "source": [
    "X_train.head()"
   ]
  },
  {
   "cell_type": "code",
   "execution_count": 81,
   "metadata": {},
   "outputs": [
    {
     "data": {
      "text/plain": [
       "196    25.72\n",
       "631    17.54\n",
       "81     25.20\n",
       "526    23.64\n",
       "830    33.76\n",
       "Name: Strength, dtype: float64"
      ]
     },
     "execution_count": 81,
     "metadata": {},
     "output_type": "execute_result"
    }
   ],
   "source": [
    "y_train.head()"
   ]
  },
  {
   "cell_type": "markdown",
   "metadata": {},
   "source": [
    "**<h2>Training and Testing the Network<h2>**"
   ]
  },
  {
   "cell_type": "markdown",
   "metadata": {},
   "source": [
    "**_2. Taking the epochs to be 100_**"
   ]
  },
  {
   "cell_type": "code",
   "execution_count": 82,
   "metadata": {},
   "outputs": [],
   "source": [
    "model= regression_model()"
   ]
  },
  {
   "cell_type": "code",
   "execution_count": 83,
   "metadata": {},
   "outputs": [
    {
     "name": "stdout",
     "output_type": "stream",
     "text": [
      "Epoch 1/100\n",
      "721/721 [==============================] - 1s 999us/step - loss: 1573.6767\n",
      "Epoch 2/100\n",
      "721/721 [==============================] - 0s 414us/step - loss: 1557.8192\n",
      "Epoch 3/100\n",
      "721/721 [==============================] - 0s 355us/step - loss: 1542.0769\n",
      "Epoch 4/100\n",
      "721/721 [==============================] - 0s 392us/step - loss: 1525.6653\n",
      "Epoch 5/100\n",
      "721/721 [==============================] - 0s 334us/step - loss: 1509.0994\n",
      "Epoch 6/100\n",
      "721/721 [==============================] - 0s 308us/step - loss: 1491.1473\n",
      "Epoch 7/100\n",
      "721/721 [==============================] - 0s 302us/step - loss: 1472.3855\n",
      "Epoch 8/100\n",
      "721/721 [==============================] - 0s 275us/step - loss: 1452.4136\n",
      "Epoch 9/100\n",
      "721/721 [==============================] - 0s 356us/step - loss: 1430.95440s - loss: 1415.\n",
      "Epoch 10/100\n",
      "721/721 [==============================] - 0s 307us/step - loss: 1408.9101\n",
      "Epoch 11/100\n",
      "721/721 [==============================] - 0s 303us/step - loss: 1385.3299\n",
      "Epoch 12/100\n",
      "721/721 [==============================] - 0s 278us/step - loss: 1360.5009\n",
      "Epoch 13/100\n",
      "721/721 [==============================] - 0s 284us/step - loss: 1334.8732\n",
      "Epoch 14/100\n",
      "721/721 [==============================] - 0s 305us/step - loss: 1308.1921\n",
      "Epoch 15/100\n",
      "721/721 [==============================] - 0s 353us/step - loss: 1279.7477\n",
      "Epoch 16/100\n",
      "721/721 [==============================] - 0s 387us/step - loss: 1250.9137\n",
      "Epoch 17/100\n",
      "721/721 [==============================] - 0s 357us/step - loss: 1220.4631\n",
      "Epoch 18/100\n",
      "721/721 [==============================] - 0s 305us/step - loss: 1189.0880\n",
      "Epoch 19/100\n",
      "721/721 [==============================] - 0s 330us/step - loss: 1155.9365\n",
      "Epoch 20/100\n",
      "721/721 [==============================] - 0s 359us/step - loss: 1122.4665\n",
      "Epoch 21/100\n",
      "721/721 [==============================] - 0s 358us/step - loss: 1088.5465\n",
      "Epoch 22/100\n",
      "721/721 [==============================] - 0s 303us/step - loss: 1053.1806\n",
      "Epoch 23/100\n",
      "721/721 [==============================] - 0s 332us/step - loss: 1017.7064\n",
      "Epoch 24/100\n",
      "721/721 [==============================] - 0s 306us/step - loss: 982.3390\n",
      "Epoch 25/100\n",
      "721/721 [==============================] - 0s 331us/step - loss: 946.2820\n",
      "Epoch 26/100\n",
      "721/721 [==============================] - 0s 334us/step - loss: 910.8968\n",
      "Epoch 27/100\n",
      "721/721 [==============================] - 0s 315us/step - loss: 875.5225\n",
      "Epoch 28/100\n",
      "721/721 [==============================] - 0s 367us/step - loss: 840.4596\n",
      "Epoch 29/100\n",
      "721/721 [==============================] - 0s 331us/step - loss: 806.6638\n",
      "Epoch 30/100\n",
      "721/721 [==============================] - 0s 410us/step - loss: 773.0505\n",
      "Epoch 31/100\n",
      "721/721 [==============================] - 0s 333us/step - loss: 739.7928\n",
      "Epoch 32/100\n",
      "721/721 [==============================] - 0s 363us/step - loss: 708.5402\n",
      "Epoch 33/100\n",
      "721/721 [==============================] - 0s 331us/step - loss: 677.6447\n",
      "Epoch 34/100\n",
      "721/721 [==============================] - 0s 332us/step - loss: 647.8252\n",
      "Epoch 35/100\n",
      "721/721 [==============================] - 0s 327us/step - loss: 619.3699\n",
      "Epoch 36/100\n",
      "721/721 [==============================] - 0s 390us/step - loss: 592.3816\n",
      "Epoch 37/100\n",
      "721/721 [==============================] - 0s 384us/step - loss: 565.5120\n",
      "Epoch 38/100\n",
      "721/721 [==============================] - 0s 334us/step - loss: 541.1272\n",
      "Epoch 39/100\n",
      "721/721 [==============================] - 0s 328us/step - loss: 517.0696\n",
      "Epoch 40/100\n",
      "721/721 [==============================] - 0s 414us/step - loss: 494.4659\n",
      "Epoch 41/100\n",
      "721/721 [==============================] - 0s 417us/step - loss: 473.4252\n",
      "Epoch 42/100\n",
      "721/721 [==============================] - 0s 383us/step - loss: 453.3754\n",
      "Epoch 43/100\n",
      "721/721 [==============================] - 0s 334us/step - loss: 434.5754\n",
      "Epoch 44/100\n",
      "721/721 [==============================] - 0s 336us/step - loss: 417.1660\n",
      "Epoch 45/100\n",
      "721/721 [==============================] - 0s 384us/step - loss: 400.4284\n",
      "Epoch 46/100\n",
      "721/721 [==============================] - 0s 309us/step - loss: 384.7444\n",
      "Epoch 47/100\n",
      "721/721 [==============================] - 0s 301us/step - loss: 370.5655\n",
      "Epoch 48/100\n",
      "721/721 [==============================] - 0s 329us/step - loss: 356.9828\n",
      "Epoch 49/100\n",
      "721/721 [==============================] - 0s 330us/step - loss: 344.6474\n",
      "Epoch 50/100\n",
      "721/721 [==============================] - 0s 328us/step - loss: 332.9663\n",
      "Epoch 51/100\n",
      "721/721 [==============================] - 0s 282us/step - loss: 322.2727\n",
      "Epoch 52/100\n",
      "721/721 [==============================] - 0s 331us/step - loss: 312.2247\n",
      "Epoch 53/100\n",
      "721/721 [==============================] - 0s 307us/step - loss: 302.8559\n",
      "Epoch 54/100\n",
      "721/721 [==============================] - 0s 334us/step - loss: 294.4007\n",
      "Epoch 55/100\n",
      "721/721 [==============================] - 0s 354us/step - loss: 286.5056\n",
      "Epoch 56/100\n",
      "721/721 [==============================] - 0s 337us/step - loss: 279.1205\n",
      "Epoch 57/100\n",
      "721/721 [==============================] - 0s 311us/step - loss: 272.2279\n",
      "Epoch 58/100\n",
      "721/721 [==============================] - 0s 493us/step - loss: 265.8828\n",
      "Epoch 59/100\n",
      "721/721 [==============================] - 0s 336us/step - loss: 259.9183\n",
      "Epoch 60/100\n",
      "721/721 [==============================] - 0s 333us/step - loss: 254.6846\n",
      "Epoch 61/100\n",
      "721/721 [==============================] - 0s 359us/step - loss: 249.5003\n",
      "Epoch 62/100\n",
      "721/721 [==============================] - 0s 443us/step - loss: 244.8532\n",
      "Epoch 63/100\n",
      "721/721 [==============================] - 0s 305us/step - loss: 240.5982\n",
      "Epoch 64/100\n",
      "721/721 [==============================] - 0s 333us/step - loss: 236.4510\n",
      "Epoch 65/100\n",
      "721/721 [==============================] - 0s 337us/step - loss: 232.6414\n",
      "Epoch 66/100\n",
      "721/721 [==============================] - 0s 356us/step - loss: 229.1328\n",
      "Epoch 67/100\n",
      "721/721 [==============================] - 0s 307us/step - loss: 225.7181\n",
      "Epoch 68/100\n",
      "721/721 [==============================] - 0s 309us/step - loss: 222.5997\n",
      "Epoch 69/100\n",
      "721/721 [==============================] - 0s 361us/step - loss: 219.6362\n",
      "Epoch 70/100\n",
      "721/721 [==============================] - 0s 309us/step - loss: 216.8407\n",
      "Epoch 71/100\n",
      "721/721 [==============================] - 0s 310us/step - loss: 214.2669\n",
      "Epoch 72/100\n",
      "721/721 [==============================] - 0s 383us/step - loss: 211.7337\n",
      "Epoch 73/100\n",
      "721/721 [==============================] - 0s 442us/step - loss: 209.4296\n",
      "Epoch 74/100\n",
      "721/721 [==============================] - 0s 442us/step - loss: 207.1073\n",
      "Epoch 75/100\n",
      "721/721 [==============================] - 0s 335us/step - loss: 204.9730\n",
      "Epoch 76/100\n",
      "721/721 [==============================] - 0s 360us/step - loss: 203.0202\n",
      "Epoch 77/100\n",
      "721/721 [==============================] - 1s 887us/step - loss: 201.1046\n",
      "Epoch 78/100\n",
      "721/721 [==============================] - 0s 337us/step - loss: 199.2206\n",
      "Epoch 79/100\n",
      "721/721 [==============================] - 0s 331us/step - loss: 197.4510\n",
      "Epoch 80/100\n",
      "721/721 [==============================] - 0s 333us/step - loss: 195.8171\n",
      "Epoch 81/100\n",
      "721/721 [==============================] - 0s 382us/step - loss: 194.1528 0s - loss: 181.50\n",
      "Epoch 82/100\n",
      "721/721 [==============================] - 0s 335us/step - loss: 192.6169 0s - loss: 190.9\n",
      "Epoch 83/100\n",
      "721/721 [==============================] - 0s 366us/step - loss: 191.0181 0s - loss: 208.\n",
      "Epoch 84/100\n",
      "721/721 [==============================] - 0s 366us/step - loss: 189.4490\n",
      "Epoch 85/100\n",
      "721/721 [==============================] - 0s 389us/step - loss: 188.0001\n",
      "Epoch 86/100\n",
      "721/721 [==============================] - 0s 365us/step - loss: 186.4089\n",
      "Epoch 87/100\n",
      "721/721 [==============================] - 0s 310us/step - loss: 184.9676\n",
      "Epoch 88/100\n",
      "721/721 [==============================] - 0s 364us/step - loss: 183.5765\n",
      "Epoch 89/100\n",
      "721/721 [==============================] - 0s 306us/step - loss: 182.1958\n",
      "Epoch 90/100\n",
      "721/721 [==============================] - 0s 355us/step - loss: 180.7920\n",
      "Epoch 91/100\n",
      "721/721 [==============================] - 0s 333us/step - loss: 179.5247\n",
      "Epoch 92/100\n",
      "721/721 [==============================] - 0s 327us/step - loss: 178.1734\n",
      "Epoch 93/100\n",
      "721/721 [==============================] - 0s 331us/step - loss: 176.8764\n",
      "Epoch 94/100\n",
      "721/721 [==============================] - 0s 308us/step - loss: 175.5862\n",
      "Epoch 95/100\n",
      "721/721 [==============================] - 0s 382us/step - loss: 174.3162\n",
      "Epoch 96/100\n",
      "721/721 [==============================] - 0s 337us/step - loss: 173.1021\n",
      "Epoch 97/100\n",
      "721/721 [==============================] - 0s 353us/step - loss: 171.8552\n",
      "Epoch 98/100\n",
      "721/721 [==============================] - 0s 310us/step - loss: 170.6083\n",
      "Epoch 99/100\n",
      "721/721 [==============================] - 0s 393us/step - loss: 169.3890\n",
      "Epoch 100/100\n",
      "721/721 [==============================] - 0s 382us/step - loss: 168.2737\n"
     ]
    },
    {
     "data": {
      "text/plain": [
       "<keras.callbacks.History at 0x7fd2703d9668>"
      ]
     },
     "execution_count": 83,
     "metadata": {},
     "output_type": "execute_result"
    }
   ],
   "source": [
    "no_of_epochs= 100\n",
    "model.fit(X_train, y_train, epochs= no_of_epochs, verbose=1) #verbose = 1, which includes both progress bar and one line per epoch."
   ]
  },
  {
   "cell_type": "markdown",
   "metadata": {},
   "source": [
    "**_3. Evaluating the model on the test data and computing the mean squared error between the predicted concrete strength and the actual concrete strength._**"
   ]
  },
  {
   "cell_type": "code",
   "execution_count": 84,
   "metadata": {},
   "outputs": [
    {
     "name": "stdout",
     "output_type": "stream",
     "text": [
      "309/309 [==============================] - 0s 392us/step\n"
     ]
    },
    {
     "data": {
      "text/plain": [
       "167.7187526172033"
      ]
     },
     "execution_count": 84,
     "metadata": {},
     "output_type": "execute_result"
    }
   ],
   "source": [
    "loss= model.evaluate(X_test, y_test)\n",
    "loss"
   ]
  },
  {
   "cell_type": "markdown",
   "metadata": {},
   "source": [
    "Computing the mean_squared error"
   ]
  },
  {
   "cell_type": "code",
   "execution_count": 85,
   "metadata": {},
   "outputs": [],
   "source": [
    "from sklearn.metrics import mean_squared_error"
   ]
  },
  {
   "cell_type": "code",
   "execution_count": 86,
   "metadata": {},
   "outputs": [],
   "source": [
    "y_pred=model.predict(X_test)"
   ]
  },
  {
   "cell_type": "code",
   "execution_count": 87,
   "metadata": {},
   "outputs": [
    {
     "name": "stdout",
     "output_type": "stream",
     "text": [
      "167.7187517306672 0.0\n"
     ]
    }
   ],
   "source": [
    "MSE = mean_squared_error(y_test, y_pred)\n",
    "mean = np.mean(MSE)\n",
    "standard_deviation = np.std(MSE)\n",
    "print(mean, standard_deviation)"
   ]
  },
  {
   "cell_type": "markdown",
   "metadata": {},
   "source": [
    "<h3>4. Create a list of 50 mean squared errors with 100 epochs.<h3>"
   ]
  },
  {
   "cell_type": "code",
   "execution_count": 89,
   "metadata": {},
   "outputs": [
    {
     "name": "stdout",
     "output_type": "stream",
     "text": [
      "MSE no. 1 IS 51.57256294917134:\n",
      "MSE no. 2 IS 44.86564153529294:\n",
      "MSE no. 3 IS 43.00128704675964:\n",
      "MSE no. 4 IS 42.21327493414524:\n",
      "MSE no. 5 IS 42.09751842091384:\n",
      "MSE no. 6 IS 41.34615369753544:\n",
      "MSE no. 7 IS 40.420929411854175:\n",
      "MSE no. 8 IS 39.10606364524866:\n",
      "MSE no. 9 IS 38.47983234985747:\n",
      "MSE no. 10 IS 38.68607643275585:\n",
      "MSE no. 11 IS 38.10269716256645:\n",
      "MSE no. 12 IS 37.89426817168695:\n",
      "MSE no. 13 IS 38.010344755302356:\n",
      "MSE no. 14 IS 37.604843935920194:\n",
      "MSE no. 15 IS 37.674815890858476:\n",
      "MSE no. 16 IS 37.727238571759564:\n",
      "MSE no. 17 IS 37.740910903535614:\n",
      "MSE no. 18 IS 37.43841913217094:\n",
      "MSE no. 19 IS 37.32266521145225:\n",
      "MSE no. 20 IS 37.54914884351218:\n",
      "MSE no. 21 IS 37.10752325459205:\n",
      "MSE no. 22 IS 37.05213791807107:\n",
      "MSE no. 23 IS 37.123387660795046:\n",
      "MSE no. 24 IS 36.993756093639384:\n",
      "MSE no. 25 IS 36.99247128137878:\n",
      "MSE no. 26 IS 36.8751409154108:\n",
      "MSE no. 27 IS 37.204052625736374:\n",
      "MSE no. 28 IS 36.96218897378175:\n",
      "MSE no. 29 IS 36.73423914616162:\n",
      "MSE no. 30 IS 36.48228911983157:\n",
      "MSE no. 31 IS 36.665546775249986:\n",
      "MSE no. 32 IS 36.48845244225561:\n",
      "MSE no. 33 IS 36.8463960172289:\n",
      "MSE no. 34 IS 36.44002442838305:\n",
      "MSE no. 35 IS 36.42333316494346:\n",
      "MSE no. 36 IS 36.492020961921966:\n",
      "MSE no. 37 IS 36.42368551211064:\n",
      "MSE no. 38 IS 36.66081465563728:\n",
      "MSE no. 39 IS 36.35680419033014:\n",
      "MSE no. 40 IS 36.268941545949396:\n",
      "MSE no. 41 IS 36.183617119650236:\n",
      "MSE no. 42 IS 36.84852276033568:\n",
      "MSE no. 43 IS 36.87702442527203:\n",
      "MSE no. 44 IS 36.55658257740601:\n",
      "MSE no. 45 IS 36.558879136267606:\n",
      "MSE no. 46 IS 36.45506374889979:\n",
      "MSE no. 47 IS 36.36104128198716:\n",
      "MSE no. 48 IS 36.68563817465575:\n",
      "MSE no. 49 IS 36.57515614086756:\n",
      "MSE no. 50 IS 36.4362951358931:\n"
     ]
    }
   ],
   "source": [
    "total_MSE = 50\n",
    "epochs = 100\n",
    "mean_squared_errors = []\n",
    "for i in range(0, total_MSE):\n",
    "    model.fit(X_train, y_train, epochs=epochs, verbose=0)\n",
    "    MSE = model.evaluate(X_test, y_test, verbose=0)\n",
    "    print(\"MSE no. {} IS {}:\".format(i+1,MSE))\n",
    "    y_pred = model.predict(X_test)\n",
    "    MSE = mean_squared_error(y_test, y_pred)\n",
    "    mean_squared_errors.append(MSE)\n",
    "\n",
    "mean_squared_errors = np.array(mean_squared_errors)\n"
   ]
  },
  {
   "cell_type": "markdown",
   "metadata": {},
   "source": [
    "<h3>5. Report the mean and the standard deviation of the mean squared errors.<h3>"
   ]
  },
  {
   "cell_type": "code",
   "execution_count": 90,
   "metadata": {},
   "outputs": [
    {
     "name": "stdout",
     "output_type": "stream",
     "text": [
      "\n",
      "\n",
      "The mean of all the MSE for the normalized data and 100 epochs is 37.979715716544455\n",
      "\n",
      "Standard Deviation of all the MSE for the normalized data and 100 epochs is 2.7075057106917626: \n"
     ]
    }
   ],
   "source": [
    "mean = np.mean(mean_squared_errors)\n",
    "standard_deviation = np.std(mean_squared_errors)\n",
    "\n",
    "print('\\n')\n",
    "print(\"The mean of all the MSE for the normalized data and {} epochs is {}\\n\".format(epochs,mean))\n",
    "print(\"Standard Deviation of all the MSE for the normalized data and {} epochs is {}: \".format(epochs,standard_deviation))"
   ]
  },
  {
   "cell_type": "markdown",
   "metadata": {},
   "source": [
    "**<H1>THANK YOU<H1>**"
   ]
  }
 ],
 "metadata": {
  "kernelspec": {
   "display_name": "Python",
   "language": "python",
   "name": "conda-env-python-py"
  },
  "language_info": {
   "codemirror_mode": {
    "name": "ipython",
    "version": 3
   },
   "file_extension": ".py",
   "mimetype": "text/x-python",
   "name": "python",
   "nbconvert_exporter": "python",
   "pygments_lexer": "ipython3",
   "version": "3.6.10"
  }
 },
 "nbformat": 4,
 "nbformat_minor": 4
}
